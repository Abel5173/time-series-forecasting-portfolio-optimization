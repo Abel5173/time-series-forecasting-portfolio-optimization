{
 "cells": [
  {
   "cell_type": "markdown",
   "id": "b98f0fa8",
   "metadata": {},
   "source": [
    "# Task 5: Strategy Backtesting"
   ]
  },
  {
   "cell_type": "markdown",
   "id": "72cb235e",
   "metadata": {},
   "source": [
    "### 1. Define Backtesting Period and Benchmark"
   ]
  },
  {
   "cell_type": "code",
   "execution_count": null,
   "id": "b717a86b",
   "metadata": {},
   "outputs": [],
   "source": [
    "import pandas as pd\n",
    "import numpy as np\n",
    "import matplotlib.pyplot as plt\n",
    "from datetime import datetime\n",
    "\n",
    "# Load historical data (from Task 1 CSVs)\n",
    "prices = pd.DataFrame({\n",
    "    'TSLA': pd.read_csv('data/TSLA_historical.csv', index_col='Date', parse_dates=True)['Adj Close'],\n",
    "    'BND': pd.read_csv('data/BND_historical.csv', index_col='Date', parse_dates=True)['Adj Close'],\n",
    "    'SPY': pd.read_csv('data/SPY_historical.csv', index_col='Date', parse_dates=True)['Adj Close']\n",
    "}).dropna()\n",
    "\n",
    "# Backtesting period\n",
    "backtest_start = '2024-08-01'\n",
    "backtest_end = '2025-07-31'\n",
    "backtest_prices = prices.loc[backtest_start:backtest_end]\n",
    "\n",
    "# Portfolio weights (from Task 4, replace with your actual weights)\n",
    "strategy_weights = {'TSLA': 0.3, 'BND': 0.5,\n",
    "                    'SPY': 0.2}  # Example Max Sharpe weights\n",
    "benchmark_weights = {'TSLA': 0.0, 'BND': 0.4, 'SPY': 0.6}\n",
    "\n",
    "print(\"Strategy Weights:\", strategy_weights)\n",
    "print(\"Benchmark Weights:\", benchmark_weights)"
   ]
  },
  {
   "cell_type": "markdown",
   "id": "2652a149",
   "metadata": {},
   "source": [
    "### 2. Simulate Portfolio Performance"
   ]
  },
  {
   "cell_type": "code",
   "execution_count": null,
   "id": "17b36633",
   "metadata": {},
   "outputs": [],
   "source": [
    "# Daily returns\n",
    "daily_returns = backtest_prices.pct_change().dropna()\n",
    "\n",
    "# Portfolio daily returns\n",
    "strategy_daily = sum(\n",
    "    strategy_weights[ticker] * daily_returns[ticker] for ticker in strategy_weights)\n",
    "benchmark_daily = sum(\n",
    "    benchmark_weights[ticker] * daily_returns[ticker] for ticker in benchmark_weights)\n",
    "\n",
    "# Cumulative returns\n",
    "strategy_cumulative = (1 + strategy_daily).cumprod() - 1\n",
    "benchmark_cumulative = (1 + benchmark_daily).cumprod() - 1"
   ]
  },
  {
   "cell_type": "markdown",
   "id": "420cf2de",
   "metadata": {},
   "source": [
    "### 3. Analyze Performance\n",
    "\n",
    "- Compute total return and annualized Sharpe Ratio (use 2% risk-free rate, as assumed in Task 4).\n",
    "- Plot cumulative returns for visualization."
   ]
  },
  {
   "cell_type": "code",
   "execution_count": null,
   "id": "96642006",
   "metadata": {},
   "outputs": [],
   "source": [
    "# Performance metrics\n",
    "def calculate_metrics(daily_returns, risk_free_rate=0.02):\n",
    "    total_return = (1 + daily_returns).prod() - 1\n",
    "    sharpe_ratio = (daily_returns.mean() * 252 - risk_free_rate) / \\\n",
    "        (daily_returns.std() * np.sqrt(252))\n",
    "    return total_return, sharpe_ratio\n",
    "\n",
    "\n",
    "strategy_total, strategy_sharpe = calculate_metrics(strategy_daily)\n",
    "benchmark_total, benchmark_sharpe = calculate_metrics(benchmark_daily)\n",
    "\n",
    "print(\n",
    "    f\"Strategy - Total Return: {strategy_total:.2%}, Sharpe Ratio: {strategy_sharpe:.2f}\")\n",
    "print(\n",
    "    f\"Benchmark - Total Return: {benchmark_total:.2%}, Sharpe Ratio: {benchmark_sharpe:.2f}\")\n",
    "\n",
    "# Plot cumulative returns\n",
    "plt.figure(figsize=(10, 6))\n",
    "plt.plot(strategy_cumulative, label='Strategy Portfolio')\n",
    "plt.plot(benchmark_cumulative, label='Benchmark (60% SPY, 40% BND)')\n",
    "plt.title('Cumulative Returns: Strategy vs Benchmark (Aug 2024 - Jul 2025)')\n",
    "plt.xlabel('Date')\n",
    "plt.ylabel('Cumulative Return')\n",
    "plt.legend()\n",
    "plt.savefig('reports/backtest_cumulative_returns.png')\n",
    "plt.show()"
   ]
  }
 ],
 "metadata": {
  "language_info": {
   "name": "python"
  }
 },
 "nbformat": 4,
 "nbformat_minor": 5
}
