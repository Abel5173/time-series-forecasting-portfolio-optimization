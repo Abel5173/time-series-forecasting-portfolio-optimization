{
 "cells": [
  {
   "cell_type": "markdown",
   "id": "5cfcbeff",
   "metadata": {},
   "source": [
    "# Task 3 - Forecast Future Market Trends"
   ]
  },
  {
   "cell_type": "markdown",
   "id": "3ae7b5ae",
   "metadata": {},
   "source": [
    "### 1. Prepare for Forecasting\n",
    "Retrain on full data for future predictions."
   ]
  },
  {
   "cell_type": "code",
   "execution_count": null,
   "id": "aa827b44",
   "metadata": {},
   "outputs": [],
   "source": [
    "import pandas as pd\n",
    "import numpy as np\n",
    "from tensorflow.keras.models import load_model  # If loading saved model\n",
    "from sklearn.preprocessing import MinMaxScaler\n",
    "import matplotlib.pyplot as plt\n",
    "from datetime import timedelta\n",
    "\n",
    "# Load full TSLA Adj Close\n",
    "tsla_close = closing_prices['TSLA']  # From Task 1, or reload\n",
    "\n",
    "# Scale full data\n",
    "scaler = MinMaxScaler()\n",
    "full_scaled = scaler.fit_transform(tsla_close.values.reshape(-1, 1))\n",
    "\n",
    "# Reload or retrain LSTM (example retrain for simplicity)\n",
    "lookback = 60\n",
    "X_full, y_full = create_sequences(\n",
    "    full_scaled, lookback)  # Use function from Task 2\n",
    "X_full = X_full.reshape((X_full.shape[0], X_full.shape[1], 1))\n",
    "\n",
    "model = Sequential()  # Rebuild and fit as in Task 2\n",
    "# ... (add layers, compile, fit on X_full, y_full)\n",
    "\n",
    "# Or load: model = load_model('lstm_model.h5')"
   ]
  },
  {
   "cell_type": "markdown",
   "id": "4411b8df",
   "metadata": {},
   "source": [
    "### 2. Generate Forecast (6-12 Months)\n",
    "Assume 252 trading days/year ~ 126 for 6 months, 252 for 12. We'll do 12 months for comprehensiveness.\n",
    "For LSTM (iterative prediction: Use last lookback to predict next, append, repeat):"
   ]
  },
  {
   "cell_type": "code",
   "execution_count": null,
   "id": "3841cc37",
   "metadata": {},
   "outputs": [],
   "source": [
    "# Forecast steps\n",
    "forecast_steps = 252  # ~12 months trading days\n",
    "future_dates = [tsla_close.index[-1] + timedelta(days=i) for i in range(1, forecast_steps + 1) if (\n",
    "    tsla_close.index[-1] + timedelta(days=i)).weekday() < 5]  # Skip weekends\n",
    "forecast_steps = len(future_dates)  # Adjust to actual trading days\n",
    "\n",
    "# Start with last lookback\n",
    "last_sequence = full_scaled[-lookback:].reshape(1, lookback, 1)\n",
    "lstm_forecast = []\n",
    "\n",
    "for _ in range(forecast_steps):\n",
    "    pred = model.predict(last_sequence)[0][0]\n",
    "    lstm_forecast.append(pred)\n",
    "    last_sequence = np.append(last_sequence[:, 1:, :], [[[pred]]], axis=1)\n",
    "\n",
    "# Inverse scale\n",
    "lstm_forecast = scaler.inverse_transform(\n",
    "    np.array(lstm_forecast).reshape(-1, 1)).flatten()\n",
    "\n",
    "# Approximate confidence intervals (e.g., via simple std dev from residuals; for better, use bootstrapping)\n",
    "# First, get residuals from training\n",
    "train_preds_scaled = model.predict(X_full)\n",
    "train_preds = scaler.inverse_transform(train_preds_scaled)\n",
    "residuals = tsla_close.values[lookback:] - train_preds.flatten()\n",
    "res_std = np.std(residuals)\n",
    "\n",
    "# Rough CI: forecast ± 1.96 * res_std * sqrt(1 + cumsum(1/steps)) for widening\n",
    "# Simplified: constant CI for illustration\n",
    "ci_lower = lstm_forecast - 1.96 * res_std\n",
    "ci_upper = lstm_forecast + 1.96 * res_std"
   ]
  },
  {
   "cell_type": "markdown",
   "id": "4b962239",
   "metadata": {},
   "source": [
    "#### For SARIMA (built-in intervals):"
   ]
  },
  {
   "cell_type": "code",
   "execution_count": null,
   "id": "d6686a5f",
   "metadata": {},
   "outputs": [],
   "source": [
    "# Forecast with CI\n",
    "sarima_forecast_full = sarima_fit_full.get_forecast(steps=forecast_steps)\n",
    "sarima_pred = sarima_forecast_full.predicted_mean\n",
    "sarima_conf_int = sarima_forecast_full.conf_int()\n",
    "\n",
    "# Future dates as above"
   ]
  },
  {
   "cell_type": "markdown",
   "id": "3b3c105a",
   "metadata": {},
   "source": [
    "### 3. Visualize the Forecast"
   ]
  },
  {
   "cell_type": "code",
   "execution_count": null,
   "id": "803f9329",
   "metadata": {},
   "outputs": [],
   "source": [
    "# Create forecast series\n",
    "forecast_df = pd.DataFrame(\n",
    "    {'Forecast': lstm_forecast, 'Lower CI': ci_lower, 'Upper CI': ci_upper}, index=future_dates)\n",
    "\n",
    "# Plot historical + forecast\n",
    "plt.figure(figsize=(14, 7))\n",
    "# Last year for context\n",
    "plt.plot(tsla_close[-365:], label='Historical (Last Year)')\n",
    "plt.plot(forecast_df['Forecast'], label='Forecast')\n",
    "plt.fill_between(forecast_df.index, forecast_df['Lower CI'],\n",
    "                 forecast_df['Upper CI'], color='gray', alpha=0.3, label='95% CI')\n",
    "plt.title('TSLA 12-Month Forecast with Confidence Intervals')\n",
    "plt.xlabel('Date')\n",
    "plt.ylabel('Adjusted Close Price')\n",
    "plt.legend()\n",
    "plt.show()"
   ]
  }
 ],
 "metadata": {
  "language_info": {
   "name": "python"
  }
 },
 "nbformat": 4,
 "nbformat_minor": 5
}
