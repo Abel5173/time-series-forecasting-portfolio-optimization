{
 "cells": [
  {
   "cell_type": "markdown",
   "id": "aee26305",
   "metadata": {},
   "source": [
    "# Task 4 - Optimize Portfolio Based on Forecast"
   ]
  },
  {
   "cell_type": "markdown",
   "id": "14316b8a",
   "metadata": {},
   "source": [
    "### 1. Compute Expected Returns\n",
    "\n",
    "TSLA: Use the forecasted returns from Task 3 (e.g., average daily return from the 12-month forecast).\n",
    "BND, SPY: Use historical average daily returns (annualized) from the full dataset (2016-01-01 to 2025-07-31)."
   ]
  },
  {
   "cell_type": "code",
   "execution_count": null,
   "id": "bc0aa9cc",
   "metadata": {
    "vscode": {
     "languageId": "plaintext"
    }
   },
   "outputs": [],
   "source": [
    "import pandas as pd\n",
    "import numpy as np\n",
    "from pypfopt import EfficientFrontier, risk_models, expected_returns\n",
    "import matplotlib.pyplot as plt\n",
    "\n",
    "# Load historical data\n",
    "tsla_close = pd.read_csv('data/TSLA_historical.csv', index_col='Date', parse_dates=True)['Adj Close']\n",
    "bnd_close = pd.read_csv('data/BND_historical.csv', index_col='Date', parse_dates=True)['Adj Close']\n",
    "spy_close = pd.read_csv('data/SPY_historical.csv', index_col='Date', parse_dates=True)['Adj Close']\n",
    "prices = pd.DataFrame({'TSLA': tsla_close, 'BND': bnd_close, 'SPY': spy_close}).dropna()\n",
    "\n",
    "# Historical daily returns\n",
    "historical_returns = prices.pct_change().dropna()\n",
    "\n",
    "# Load TSLA forecast (from Task 3, e.g., forecast_df['Forecast'])\n",
    "forecast_df = pd.DataFrame({'Forecast': lstm_forecast}, index=future_dates)  # Adjust if using SARIMA\n",
    "forecast_returns = forecast_df['Forecast'].pct_change().dropna()\n",
    "tsla_expected_return = forecast_returns.mean() * 252  # Annualize\n",
    "\n",
    "# Historical annualized returns for BND, SPY\n",
    "bnd_expected_return = historical_returns['BND'].mean() * 252\n",
    "spy_expected_return = historical_returns['SPY'].mean() * 252\n",
    "\n",
    "# Expected returns vector\n",
    "expected_returns_vec = np.array([tsla_expected_return, bnd_expected_return, spy_expected_return])\n",
    "print(\"Expected Annual Returns:\", dict(zip(['TSLA', 'BND', 'SPY'], expected_returns_vec)))"
   ]
  },
  {
   "cell_type": "markdown",
   "id": "3120169f",
   "metadata": {},
   "source": [
    "### 2. Compute Covariance Matrix"
   ]
  },
  {
   "cell_type": "code",
   "execution_count": null,
   "id": "f2bdadfa",
   "metadata": {
    "vscode": {
     "languageId": "plaintext"
    }
   },
   "outputs": [],
   "source": [
    "# Covariance matrix (annualized)\n",
    "cov_matrix = risk_models.sample_cov(historical_returns, returns_data=True, frequency=252)\n",
    "print(\"Covariance Matrix:\\n\", cov_matrix)"
   ]
  },
  {
   "cell_type": "markdown",
   "id": "a50ac812",
   "metadata": {},
   "source": [
    "### 3. Generate Efficient Frontier"
   ]
  },
  {
   "cell_type": "code",
   "execution_count": null,
   "id": "a8b90ab5",
   "metadata": {
    "vscode": {
     "languageId": "plaintext"
    }
   },
   "outputs": [],
   "source": [
    "# Initialize Efficient Frontier\n",
    "ef = EfficientFrontier(expected_returns_vec, cov_matrix, weight_bounds=(0, 1))\n",
    "\n",
    "# Maximum Sharpe Ratio Portfolio\n",
    "sharpe_weights = ef.max_sharpe(risk_free_rate=0.02)  # Assume 2% risk-free rate\n",
    "sharpe_perf = ef.portfolio_performance(verbose=True, risk_free_rate=0.02)\n",
    "\n",
    "# Minimum Volatility Portfolio\n",
    "min_vol_weights = ef.min_volatility()\n",
    "min_vol_perf = ef.portfolio_performance(verbose=True, risk_free_rate=0.02)\n",
    "\n",
    "# Generate points for Efficient Frontier\n",
    "ef_points = []\n",
    "returns_range = np.linspace(min_vol_perf[0], sharpe_perf[0] + 0.02, 50)\n",
    "for ret in returns_range:\n",
    "    ef = EfficientFrontier(expected_returns_vec, cov_matrix)\n",
    "    ef.efficient_return(target_return=ret)\n",
    "    ret, vol, _ = ef.portfolio_performance()\n",
    "    ef_points.append((vol, ret))\n",
    "\n",
    "# Plot Efficient Frontier\n",
    "vols, rets = zip(*ef_points)\n",
    "plt.figure(figsize=(10, 6))\n",
    "plt.scatter(vols, rets, c='blue', marker='.', label='Efficient Frontier')\n",
    "plt.scatter(sharpe_perf[1], sharpe_perf[0], c='red', marker='*', s=200, label='Max Sharpe Portfolio')\n",
    "plt.scatter(min_vol_perf[1], min_vol_perf[0], c='green', marker='*', s=200, label='Min Volatility Portfolio')\n",
    "plt.xlabel('Annualized Volatility')\n",
    "plt.ylabel('Annualized Return')\n",
    "plt.title('Efficient Frontier for TSLA, BND, SPY Portfolio')\n",
    "plt.legend()\n",
    "plt.savefig('reports/efficient_frontier.png')\n",
    "plt.show()"
   ]
  }
 ],
 "metadata": {
  "language_info": {
   "name": "python"
  }
 },
 "nbformat": 4,
 "nbformat_minor": 5
}
